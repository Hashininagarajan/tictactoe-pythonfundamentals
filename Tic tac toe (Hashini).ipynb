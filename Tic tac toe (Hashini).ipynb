{
 "cells": [
  {
   "cell_type": "code",
   "execution_count": 2,
   "metadata": {},
   "outputs": [],
   "source": [
    "from IPython.display import clear_output \n",
    "# to clear the output screen we need to use IPython.display library \n",
    "def game_board(board): \n",
    "    clear_output()\n",
    "    # Defining function for printing the game board \n",
    "    print(' ' + board[0] + '  |  ' + board[1] + '  | '+ board[2]) # Creating vertical lines to separate the markers\n",
    "    print('-'*16)\n",
    "    print(' ' + board[3] + '  |  ' + board[4] + '  | '+ board[5])\n",
    "    print('-'*16)  # Creating horizontal lines to separate the markers\n",
    "    print(' ' + board[6] + '  |  ' + board[7] + '  | '+ board[8]) "
   ]
  },
  {
   "cell_type": "code",
   "execution_count": 3,
   "metadata": {},
   "outputs": [],
   "source": [
    "# test_board=['1','2','3','4','5','6','7','8','9'] # create list inorder to locate the marker in correct position\n",
    "# game_board(test_board)"
   ]
  },
  {
   "cell_type": "code",
   "execution_count": 4,
   "metadata": {},
   "outputs": [],
   "source": [
    "# Function defintion for  assigning markers for the players\n",
    "def assign_markers():  \n",
    "    while True:\n",
    "        player1 = (input(\"Player1! Which marker do you want to choose X or O: \")).upper()\n",
    "        if (player1 == 'X'):\n",
    "            print(\"Then Player2 is O\")\n",
    "            return ['X','O']\n",
    "        elif (player1 == 'O'):\n",
    "            print(\"Then Player2 marker is X \\n\")\n",
    "            return ['O','X']\n",
    "        else:\n",
    "            print(\"Enter 'X' or 'O' as marker \\n\")\n",
    "#assign_markers()"
   ]
  },
  {
   "cell_type": "code",
   "execution_count": 5,
   "metadata": {},
   "outputs": [],
   "source": [
    "# Defining function by passing inputs such us marker and position of the marker\n",
    "def place_marker(board, marker, position):\n",
    "    if (board[position] == ''): \n",
    "        board[position] = marker\n",
    "    else:\n",
    "        print(\"Already filled! Kindly choose another position\")"
   ]
  },
  {
   "cell_type": "code",
   "execution_count": 6,
   "metadata": {},
   "outputs": [],
   "source": [
    "# place_marker(test_board,'%',6)\n",
    "# game_board(test_board)\n"
   ]
  },
  {
   "cell_type": "code",
   "execution_count": 7,
   "metadata": {},
   "outputs": [],
   "source": [
    "# Defining a function that takes in a board and a mark (X or O) and then checks to see if that mark has won\n",
    "def win_check(board, mark):\n",
    "    if((board[1]==mark and board[2] == mark and board[3] == mark)or #bottom row\n",
    "    (board[4]==mark and board[5] == mark and board[6] == mark) or   #middle row\n",
    "    (board[7]==mark and board[8] == mark and board[9] == mark) or   #top row\n",
    "    (board[1]==mark and board[4] == mark and board[7] == mark) or   #left row\n",
    "    (board[2]==mark and board[5] == mark and board[8] == mark) or   # middle row\n",
    "    (board[3]==mark and board[6] == mark and board[9] == mark) or   #right row\n",
    "    (board[1]==mark and board[5] == mark and board[9] == mark) or   #left diagonal\n",
    "    (board[3]==mark and board[5] == mark and board[7] == mark)):    #right diagonal\n",
    "        return True"
   ]
  },
  {
   "cell_type": "code",
   "execution_count": 8,
   "metadata": {},
   "outputs": [],
   "source": [
    "import random\n",
    "def random_selection(): # defining a function to choose a player at random.\n",
    "    if random.randint(1,2) == 1: # random.randit chooses between two numbers(either 1 & 2); if the randomly chosen number equals the said number, then player 1 plays first, else, player 2 plays first. \n",
    "        return 'Player 1'\n",
    "    else:\n",
    "        return 'Player 2'"
   ]
  },
  {
   "cell_type": "code",
   "execution_count": 9,
   "metadata": {},
   "outputs": [],
   "source": [
    "#random_selection()"
   ]
  },
  {
   "cell_type": "code",
   "execution_count": 10,
   "metadata": {},
   "outputs": [],
   "source": [
    "# Defining a function that returns a boolean indicating whether a space on the board is freely available.\n",
    "def space_check(board, position):\n",
    "    if(board[position] == \"\"):\n",
    "        return True\n",
    "    else:\n",
    "        return False"
   ]
  },
  {
   "cell_type": "code",
   "execution_count": 11,
   "metadata": {},
   "outputs": [],
   "source": [
    "#space_check(test_board,7)"
   ]
  },
  {
   "cell_type": "code",
   "execution_count": 12,
   "metadata": {},
   "outputs": [],
   "source": [
    "#defining a function that checks if the board is full and returns a boolean value. True if full, False otherwise.def full_board_check(board):\n",
    "def full_board_check(board):\n",
    "    isFull = True\n",
    "    for i in range(1,10):\n",
    "        if (board[i] == \"\"):\n",
    "            isFull = False\n",
    "    return isFull"
   ]
  },
  {
   "cell_type": "code",
   "execution_count": 13,
   "metadata": {},
   "outputs": [],
   "source": [
    "# Defining a function to ask the player's next input position\n",
    "def player_choice(board):\n",
    "    while True:\n",
    "        position = input(\"Enter the position from 0 to 9 \\n\")\n",
    "        choice = False\n",
    "        if position.isnumeric(): #condition to check the entered value is number or not \n",
    "            position = int(position)\n",
    "            if (position >=1 and position <=9):#condition to check the entered value is between 1 and 9\n",
    "                if space_check(board, position):\n",
    "                    return position\n",
    "                else:\n",
    "                    print(\"Choosen position already occupied. please choose another position\")\n",
    "            else:\n",
    "                print(\"Enter value between 1 and 9:\")\n",
    "        else:\n",
    "            print(\"Enter numeric value between 1 and 9:\")\n",
    "            \n",
    "# test_board = [\"\",\"\",\"\",\"\",\"\",\"\",\"\",\"\",\"\"]\n",
    "# player_choice(test_board)\n"
   ]
  },
  {
   "cell_type": "code",
   "execution_count": 14,
   "metadata": {},
   "outputs": [],
   "source": [
    " # defining a function that asks the player if they want to play again and returns a boolean True if they do want to play again\n",
    "def replay():\n",
    "    play_again = input(\"Want to play again? yes/ no enter Y/N :\")\n",
    "    if not play_again.isalpha():\n",
    "        print(\"invalid entry\")\n",
    "    elif play_again !='y' and play_again!='n':\n",
    "        print (\"invalid entry\")\n",
    "    else:\n",
    "        if (play_again.lower() == 'y'):\n",
    "            return True\n",
    "        else:\n",
    "            print(\"Okay, Thank You!\")\n",
    "#replay()"
   ]
  },
  {
   "cell_type": "code",
   "execution_count": 16,
   "metadata": {},
   "outputs": [
    {
     "name": "stdout",
     "output_type": "stream",
     "text": [
      "Let us play Tic-Tac-Toe game\n",
      "Rules:\n",
      "1.Two players needed\n",
      "2.You should choose your marker X or O\n",
      "3.Each player have to enter the position of marker alternatively\n",
      "4.To Win the game player should complete a straight line by arranging their marker (X or O) inhorizaontal or vertical or diagonal\n",
      "Sample board with position:\n",
      "\n"
     ]
    }
   ],
   "source": [
    "print(\"Let us play Tic-Tac-Toe game\")\n",
    "print(\"Rules:\") # printing the welcome message and rules of the game\n",
    "print(\"1.Two players needed\")\n",
    "print(\"2.You should choose your marker X or O\")\n",
    "print(\"3.Each player have to enter the position of marker alternatively\")\n",
    "print(\"4.To Win the game player should complete a straight line by arranging their marker (X or O) in\" \n",
    "            \"horizaontal or vertical or diagonal\\n\"\"Sample board with position:\\n\")\n",
    "test_board = ['1','2','3','4','5','6','7','8','9'] # create list inorder to locate the marker in correct position"
   ]
  },
  {
   "cell_type": "code",
   "execution_count": 17,
   "metadata": {},
   "outputs": [
    {
     "name": "stdout",
     "output_type": "stream",
     "text": [
      "   |  O  | \n",
      "----------------\n",
      "   |    | \n",
      "----------------\n",
      "   |    | \n",
      "\n",
      "\n",
      "Want to play again? yes/ no enter Y/N :Y\n",
      "invalid entry\n"
     ]
    }
   ],
   "source": [
    "game_board(test_board) #function calling to print the sample tic tac toe board to understand the marker position (0 to 9)\n",
    "player_list = assign_markers()\n",
    "first_player = random_selection()\n",
    "print (\"Player with marker {} has won the toss to play first!!!\".format(first_player))\n",
    "    \n",
    "#variable initialization\n",
    "board = ['','','','','','','','','','']\n",
    "position = 0\n",
    "game_on = True\n",
    "while game_on:\n",
    "    if (player_list[0] == first_player):\n",
    "        print(\"{} marker player1 turn\".format(first_player))\n",
    "        position = player_choice(board)\n",
    "        place_marker(board,player_list[0],position)\n",
    "        game_board(board)\n",
    "        print(\"\\n\")\n",
    "        if (win_check(board,player_list[0])):\n",
    "            print(\"congrats! player1 with marker {0} won the game!!!\".format(player_list[0]))\n",
    "            game_on = False\n",
    "        elif (full_board_check(board)):\n",
    "            print(\"The game ends in Tie\")\n",
    "            game_on = False\n",
    "        else:\n",
    "            first_player = player_list[1]\n",
    "    elif (player_list[0] != first_player):\n",
    "        print(\"{} marker player2 turn\".format(player_list[1]))\n",
    "        position = player_choice(board)\n",
    "        place_marker(board,player_list[1],position)\n",
    "        game_board(board)\n",
    "        print(\"\\n\")\n",
    "        #checking whether player won the game\n",
    "        if (win_check(board,player_list[1])):\n",
    "            print(\"congrats! player2 with marker {0} won the game!!!\".format(player_list[1]))\n",
    "            game_on = False\n",
    "        #checking space in available in the board\n",
    "        elif (full_board_check(board)):\n",
    "            print(\"The game ends in Tie!!\")\n",
    "            game_on = False\n",
    "        else: \n",
    "            # Player 1 turn creation\n",
    "            first_player = player_list[0]\n",
    "\n",
    "    if not replay():\n",
    "        break\n",
    "            \n",
    "            \n",
    "    \n"
   ]
  },
  {
   "cell_type": "code",
   "execution_count": null,
   "metadata": {},
   "outputs": [],
   "source": []
  },
  {
   "cell_type": "code",
   "execution_count": null,
   "metadata": {},
   "outputs": [],
   "source": []
  },
  {
   "cell_type": "code",
   "execution_count": null,
   "metadata": {},
   "outputs": [],
   "source": []
  },
  {
   "cell_type": "code",
   "execution_count": null,
   "metadata": {},
   "outputs": [],
   "source": []
  }
 ],
 "metadata": {
  "kernelspec": {
   "display_name": "Python 3",
   "language": "python",
   "name": "python3"
  },
  "language_info": {
   "codemirror_mode": {
    "name": "ipython",
    "version": 3
   },
   "file_extension": ".py",
   "mimetype": "text/x-python",
   "name": "python",
   "nbconvert_exporter": "python",
   "pygments_lexer": "ipython3",
   "version": "3.7.4"
  }
 },
 "nbformat": 4,
 "nbformat_minor": 2
}
